{
 "cells": [
  {
   "cell_type": "code",
   "execution_count": 24,
   "id": "52c52b15",
   "metadata": {},
   "outputs": [],
   "source": [
    "# Import necessary libraries\n",
    "import pandas as pd\n",
    "import numpy as np\n",
    "from scipy.stats import ttest_rel\n",
    "from scipy.stats import ttest_ind\n",
    "from statsmodels.stats.weightstats import ztest\n",
    "import warnings\n",
    "warnings.filterwarnings(\"ignore\")\n"
   ]
  },
  {
   "cell_type": "code",
   "execution_count": 25,
   "id": "dc931b2f",
   "metadata": {},
   "outputs": [
    {
     "data": {
      "text/html": [
       "<div>\n",
       "<style scoped>\n",
       "    .dataframe tbody tr th:only-of-type {\n",
       "        vertical-align: middle;\n",
       "    }\n",
       "\n",
       "    .dataframe tbody tr th {\n",
       "        vertical-align: top;\n",
       "    }\n",
       "\n",
       "    .dataframe thead th {\n",
       "        text-align: right;\n",
       "    }\n",
       "</style>\n",
       "<table border=\"1\" class=\"dataframe\">\n",
       "  <thead>\n",
       "    <tr style=\"text-align: right;\">\n",
       "      <th></th>\n",
       "      <th>Gender</th>\n",
       "      <th>Test preparation</th>\n",
       "      <th>Total Marks</th>\n",
       "    </tr>\n",
       "  </thead>\n",
       "  <tbody>\n",
       "    <tr>\n",
       "      <th>0</th>\n",
       "      <td>male</td>\n",
       "      <td>none</td>\n",
       "      <td>14</td>\n",
       "    </tr>\n",
       "    <tr>\n",
       "      <th>1</th>\n",
       "      <td>female</td>\n",
       "      <td>none</td>\n",
       "      <td>28</td>\n",
       "    </tr>\n",
       "    <tr>\n",
       "      <th>2</th>\n",
       "      <td>female</td>\n",
       "      <td>none</td>\n",
       "      <td>18</td>\n",
       "    </tr>\n",
       "    <tr>\n",
       "      <th>3</th>\n",
       "      <td>female</td>\n",
       "      <td>none</td>\n",
       "      <td>48</td>\n",
       "    </tr>\n",
       "    <tr>\n",
       "      <th>4</th>\n",
       "      <td>female</td>\n",
       "      <td>none</td>\n",
       "      <td>21</td>\n",
       "    </tr>\n",
       "    <tr>\n",
       "      <th>5</th>\n",
       "      <td>female</td>\n",
       "      <td>completed</td>\n",
       "      <td>40</td>\n",
       "    </tr>\n",
       "    <tr>\n",
       "      <th>6</th>\n",
       "      <td>male</td>\n",
       "      <td>none</td>\n",
       "      <td>30</td>\n",
       "    </tr>\n",
       "    <tr>\n",
       "      <th>7</th>\n",
       "      <td>female</td>\n",
       "      <td>none</td>\n",
       "      <td>12</td>\n",
       "    </tr>\n",
       "    <tr>\n",
       "      <th>8</th>\n",
       "      <td>male</td>\n",
       "      <td>none</td>\n",
       "      <td>18</td>\n",
       "    </tr>\n",
       "    <tr>\n",
       "      <th>9</th>\n",
       "      <td>male</td>\n",
       "      <td>none</td>\n",
       "      <td>24</td>\n",
       "    </tr>\n",
       "    <tr>\n",
       "      <th>10</th>\n",
       "      <td>male</td>\n",
       "      <td>completed</td>\n",
       "      <td>44</td>\n",
       "    </tr>\n",
       "    <tr>\n",
       "      <th>11</th>\n",
       "      <td>male</td>\n",
       "      <td>none</td>\n",
       "      <td>23</td>\n",
       "    </tr>\n",
       "    <tr>\n",
       "      <th>12</th>\n",
       "      <td>male</td>\n",
       "      <td>completed</td>\n",
       "      <td>43</td>\n",
       "    </tr>\n",
       "    <tr>\n",
       "      <th>13</th>\n",
       "      <td>male</td>\n",
       "      <td>none</td>\n",
       "      <td>28</td>\n",
       "    </tr>\n",
       "    <tr>\n",
       "      <th>14</th>\n",
       "      <td>female</td>\n",
       "      <td>none</td>\n",
       "      <td>41</td>\n",
       "    </tr>\n",
       "    <tr>\n",
       "      <th>15</th>\n",
       "      <td>female</td>\n",
       "      <td>none</td>\n",
       "      <td>13</td>\n",
       "    </tr>\n",
       "    <tr>\n",
       "      <th>16</th>\n",
       "      <td>female</td>\n",
       "      <td>completed</td>\n",
       "      <td>48</td>\n",
       "    </tr>\n",
       "    <tr>\n",
       "      <th>17</th>\n",
       "      <td>female</td>\n",
       "      <td>none</td>\n",
       "      <td>45</td>\n",
       "    </tr>\n",
       "    <tr>\n",
       "      <th>18</th>\n",
       "      <td>male</td>\n",
       "      <td>none</td>\n",
       "      <td>47</td>\n",
       "    </tr>\n",
       "    <tr>\n",
       "      <th>19</th>\n",
       "      <td>male</td>\n",
       "      <td>none</td>\n",
       "      <td>36</td>\n",
       "    </tr>\n",
       "    <tr>\n",
       "      <th>20</th>\n",
       "      <td>male</td>\n",
       "      <td>none</td>\n",
       "      <td>14</td>\n",
       "    </tr>\n",
       "    <tr>\n",
       "      <th>21</th>\n",
       "      <td>male</td>\n",
       "      <td>completed</td>\n",
       "      <td>44</td>\n",
       "    </tr>\n",
       "    <tr>\n",
       "      <th>22</th>\n",
       "      <td>female</td>\n",
       "      <td>none</td>\n",
       "      <td>41</td>\n",
       "    </tr>\n",
       "    <tr>\n",
       "      <th>23</th>\n",
       "      <td>female</td>\n",
       "      <td>none</td>\n",
       "      <td>27</td>\n",
       "    </tr>\n",
       "    <tr>\n",
       "      <th>24</th>\n",
       "      <td>female</td>\n",
       "      <td>none</td>\n",
       "      <td>27</td>\n",
       "    </tr>\n",
       "    <tr>\n",
       "      <th>25</th>\n",
       "      <td>female</td>\n",
       "      <td>none</td>\n",
       "      <td>38</td>\n",
       "    </tr>\n",
       "    <tr>\n",
       "      <th>26</th>\n",
       "      <td>female</td>\n",
       "      <td>completed</td>\n",
       "      <td>50</td>\n",
       "    </tr>\n",
       "    <tr>\n",
       "      <th>27</th>\n",
       "      <td>female</td>\n",
       "      <td>completed</td>\n",
       "      <td>43</td>\n",
       "    </tr>\n",
       "  </tbody>\n",
       "</table>\n",
       "</div>"
      ],
      "text/plain": [
       "    Gender Test preparation  Total Marks\n",
       "0     male             none           14\n",
       "1   female             none           28\n",
       "2   female             none           18\n",
       "3   female             none           48\n",
       "4   female             none           21\n",
       "5   female        completed           40\n",
       "6     male             none           30\n",
       "7   female             none           12\n",
       "8     male             none           18\n",
       "9     male             none           24\n",
       "10    male        completed           44\n",
       "11    male             none           23\n",
       "12    male        completed           43\n",
       "13    male             none           28\n",
       "14  female             none           41\n",
       "15  female             none           13\n",
       "16  female        completed           48\n",
       "17  female             none           45\n",
       "18    male             none           47\n",
       "19    male             none           36\n",
       "20    male             none           14\n",
       "21    male        completed           44\n",
       "22  female             none           41\n",
       "23  female             none           27\n",
       "24  female             none           27\n",
       "25  female             none           38\n",
       "26  female        completed           50\n",
       "27  female        completed           43"
      ]
     },
     "execution_count": 25,
     "metadata": {},
     "output_type": "execute_result"
    }
   ],
   "source": [
    "# Reading the dataset\n",
    "DF= pd.read_csv('dataset w7.csv')\n",
    "DF"
   ]
  },
  {
   "cell_type": "code",
   "execution_count": 26,
   "id": "51768238",
   "metadata": {},
   "outputs": [
    {
     "data": {
      "text/plain": [
       "Gender              0\n",
       "Test preparation    0\n",
       "Total Marks         0\n",
       "dtype: int64"
      ]
     },
     "execution_count": 26,
     "metadata": {},
     "output_type": "execute_result"
    }
   ],
   "source": [
    "# Check for Null values\n",
    "DF.isnull().sum()\n"
   ]
  },
  {
   "cell_type": "markdown",
   "id": "a7da3bc2",
   "metadata": {},
   "source": [
    "# 1. Carry out descriptive analytics on the dataset\n"
   ]
  },
  {
   "cell_type": "code",
   "execution_count": 27,
   "id": "61a18ef4",
   "metadata": {},
   "outputs": [
    {
     "data": {
      "text/plain": [
       "female    16\n",
       "male      12\n",
       "Name: Gender, dtype: int64"
      ]
     },
     "execution_count": 27,
     "metadata": {},
     "output_type": "execute_result"
    }
   ],
   "source": [
    "DF['Gender'].value_counts()"
   ]
  },
  {
   "cell_type": "code",
   "execution_count": 28,
   "id": "3706cada",
   "metadata": {},
   "outputs": [
    {
     "data": {
      "text/plain": [
       "count    28.000000\n",
       "mean     32.321429\n",
       "std      12.454520\n",
       "min      12.000000\n",
       "25%      22.500000\n",
       "50%      33.000000\n",
       "75%      43.250000\n",
       "max      50.000000\n",
       "Name: Total Marks, dtype: float64"
      ]
     },
     "execution_count": 28,
     "metadata": {},
     "output_type": "execute_result"
    }
   ],
   "source": [
    "DF[('Total Marks')].describe()"
   ]
  },
  {
   "cell_type": "code",
   "execution_count": 29,
   "id": "6d85ce45",
   "metadata": {},
   "outputs": [
    {
     "data": {
      "text/plain": [
       "count       28\n",
       "unique       2\n",
       "top       none\n",
       "freq        21\n",
       "Name: Test preparation, dtype: object"
      ]
     },
     "execution_count": 29,
     "metadata": {},
     "output_type": "execute_result"
    }
   ],
   "source": [
    "DF[('Test preparation')].describe()"
   ]
  },
  {
   "cell_type": "code",
   "execution_count": 30,
   "id": "c0c66420",
   "metadata": {},
   "outputs": [
    {
     "data": {
      "text/plain": [
       "Gender  Test preparation\n",
       "female  none                12\n",
       "        completed            4\n",
       "male    none                 9\n",
       "        completed            3\n",
       "Name: Test preparation, dtype: int64"
      ]
     },
     "execution_count": 30,
     "metadata": {},
     "output_type": "execute_result"
    }
   ],
   "source": [
    "DF.groupby('Gender')['Test preparation'].value_counts()"
   ]
  },
  {
   "cell_type": "code",
   "execution_count": 31,
   "id": "996c638c",
   "metadata": {},
   "outputs": [
    {
     "data": {
      "text/plain": [
       "Gender\n",
       "female    33.750000\n",
       "male      30.416667\n",
       "Name: Total Marks, dtype: float64"
      ]
     },
     "execution_count": 31,
     "metadata": {},
     "output_type": "execute_result"
    }
   ],
   "source": [
    "DF.groupby('Gender')['Total Marks'].mean()"
   ]
  },
  {
   "cell_type": "code",
   "execution_count": 32,
   "id": "0c895cba",
   "metadata": {},
   "outputs": [
    {
     "data": {
      "text/plain": [
       "Test preparation\n",
       "completed    44.571429\n",
       "none         28.238095\n",
       "Name: Total Marks, dtype: float64"
      ]
     },
     "execution_count": 32,
     "metadata": {},
     "output_type": "execute_result"
    }
   ],
   "source": [
    "DF.groupby('Test preparation')['Total Marks'].mean()"
   ]
  },
  {
   "cell_type": "markdown",
   "id": "fb55312e",
   "metadata": {},
   "source": [
    "Inferences:\n",
    "\n",
    "1. There are no null values and the total count is 28.\n",
    "2. There are 16 female and 12 male samples.\n",
    "3. The mean, minimum and maximum score of the total marks are 32.32, 12 and 50 respectively.\n",
    "4. Out of 28 samples; 21 persons didn't take part in test preparation and the remaining 7 completed test preparation, out of    which 4 are females.\n",
    "5. The average total marks for females(33.75) > males (30.41).\n",
    "6. The average total marks for those who completed test preparation (44.57) > for those who didn't take part in test preparation (28.23)."
   ]
  },
  {
   "cell_type": "markdown",
   "id": "3266261d",
   "metadata": {},
   "source": [
    "# 2. Check whether female and male students scored the same marks\n"
   ]
  },
  {
   "cell_type": "markdown",
   "id": "531ce51b",
   "metadata": {},
   "source": [
    "Hypothesis:\n",
    "\n",
    "H0: Female and Male students scored same marks.\n",
    "\n",
    "Ha: Female and Male students doesn't score same marks."
   ]
  },
  {
   "cell_type": "code",
   "execution_count": 33,
   "id": "830e40f0",
   "metadata": {},
   "outputs": [
    {
     "name": "stdout",
     "output_type": "stream",
     "text": [
      "The Results are: T-Score: [-0.69408853]   P-Value: [0.49378223]\n"
     ]
    }
   ],
   "source": [
    "alpha=.05\n",
    "\n",
    "FMarks = DF[DF[\"Gender\"]==\"female\"][[\"Total Marks\"]]\n",
    "MMarks = DF[DF[\"Gender\"] == \"male\"][[\"Total Marks\"]]\n",
    "\n",
    "t_score,p_value = ttest_ind(MMarks,FMarks)\n",
    "print('The Results are:', 'T-Score:', t_score, '  P-Value:', p_value)\n"
   ]
  },
  {
   "cell_type": "markdown",
   "id": "95eb8360",
   "metadata": {},
   "source": [
    "Inference: \n",
    "\n",
    "Since the P-Value (0.49378223) > alpha (0.05), we fail to reject null hypothesis (H0) and reject alternate hypothesis (Ha).\n",
    "\n",
    "Conclusion: \n",
    "\n",
    "According to hypothesis testing we can conclude that there is no much significant differenece of marks based on gender."
   ]
  },
  {
   "cell_type": "markdown",
   "id": "0d971371",
   "metadata": {},
   "source": [
    "# 3. Whether test preparation helps the students or not"
   ]
  },
  {
   "cell_type": "markdown",
   "id": "d9be4a10",
   "metadata": {},
   "source": [
    "Hypothesis:\n",
    "\n",
    "H0: There is no significant difference between the scores of students who completed test preparation than who did not.\n",
    "\n",
    "Ha: There is a significant difference between the scores of students who completed test preparation than who did not."
   ]
  },
  {
   "cell_type": "code",
   "execution_count": 34,
   "id": "4fcfb8bb",
   "metadata": {},
   "outputs": [
    {
     "name": "stdout",
     "output_type": "stream",
     "text": [
      "The Results are: T-Score: [3.61436375]   P-Value: [0.00126713]\n"
     ]
    }
   ],
   "source": [
    "alpha=.05\n",
    "\n",
    "CMarks = DF[DF[\"Test preparation\"]==\"completed\"][[\"Total Marks\"]]\n",
    "NMarks = DF[DF['Test preparation']==\"none\"][[\"Total Marks\"]]\n",
    "\n",
    "t_score2,p_value2 = ttest_ind(CMarks,NMarks)\n",
    "print('The Results are:', 'T-Score:', t_score2, '  P-Value:', p_value2)\n"
   ]
  },
  {
   "cell_type": "markdown",
   "id": "d696a97d",
   "metadata": {},
   "source": [
    "Inferences: \n",
    "\n",
    "Since the P-Value (0.00126713) < alpha (0.05), we reject the null hypothesis (H0) and fail to reject the alternate hypothesis (Ha)\n",
    "\n",
    "Conclusion: \n",
    "    \n",
    "Students who has completed test preparations scored > those who did not. Therefore, we are able to conclude that test preparation significantly helped the students.\n",
    "    "
   ]
  }
 ],
 "metadata": {
  "kernelspec": {
   "display_name": "Python 3 (ipykernel)",
   "language": "python",
   "name": "python3"
  },
  "language_info": {
   "codemirror_mode": {
    "name": "ipython",
    "version": 3
   },
   "file_extension": ".py",
   "mimetype": "text/x-python",
   "name": "python",
   "nbconvert_exporter": "python",
   "pygments_lexer": "ipython3",
   "version": "3.9.12"
  }
 },
 "nbformat": 4,
 "nbformat_minor": 5
}
